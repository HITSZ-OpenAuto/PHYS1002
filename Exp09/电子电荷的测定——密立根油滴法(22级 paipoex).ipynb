{
 "cells": [
  {
   "cell_type": "code",
   "execution_count": 53,
   "id": "747db126",
   "metadata": {},
   "outputs": [],
   "source": [
    "import matplotlib.pyplot as plt\n",
    "from scipy.spatial import ConvexHull\n",
    "import numpy as np\n",
    "import math"
   ]
  },
  {
   "cell_type": "code",
   "execution_count": 54,
   "id": "eee9b9ef",
   "metadata": {},
   "outputs": [],
   "source": [
    "r=981\n",
    "g=9.78\n",
    "n=1.83e-5\n",
    "l=1.6e-3\n",
    "b=8.22e-3\n",
    "p=1.0098e5\n",
    "d=5e-3\n",
    "pi=3.1415926\n",
    "e=1.602e-19"
   ]
  },
  {
   "cell_type": "code",
   "execution_count": 55,
   "id": "964628fc",
   "metadata": {},
   "outputs": [],
   "source": [
    "tmp= 18*pi/math.sqrt(2*g*r)*d\n",
    "u_n = [196, 195, 195, 195, 195] # V\n",
    "t = [6.40, 6.18, 6.34, 6.45, 6.39] # s\n",
    "q = [] # C\n",
    "ni = []\n",
    "ei = []"
   ]
  },
  {
   "cell_type": "code",
   "execution_count": 56,
   "id": "03381290",
   "metadata": {},
   "outputs": [
    {
     "name": "stdout",
     "output_type": "stream",
     "text": [
      "q = [2.971485447170198e-18, 3.151934489262496e-18, 3.0303465468931077e-18, 2.9511532824827385e-18, 2.9939224382691105e-18] C\n",
      "ni = [19.0, 20.0, 19.0, 18.0, 19.0] \n",
      "ei = [1.5639397090369463e-19, 1.575967244631248e-19, 1.5949192352068987e-19, 1.6395296013792993e-19, 1.5757486517205845e-19] C\n",
      "\\overline ei = 1.5900208883949953e-19 C\n",
      "E = 0.0074775977559329914 \n"
     ]
    }
   ],
   "source": [
    "ei_sum = 0\n",
    "for i in range(0, len(u_n)):\n",
    "    q.append(tmp/u_n[i]*math.sqrt(pow(n*l/t[i]/(1+b/p*math.sqrt(2*g*r*t[i]/9/n/l)),3)))\n",
    "    ni.append(round(q[i]/e,0))\n",
    "    ei.append(q[i]/ni[i])\n",
    "    ei_sum += ei[i]\n",
    "    \n",
    "ei_ba = ei_sum/5\n",
    "E = abs(ei_ba-e)/e\n",
    "print(f\"q = {q} C\")\n",
    "print(f\"ni = {ni} \")\n",
    "print(f\"ei = {ei} C\")\n",
    "print(f\"\\overline ei = {ei_ba} C\")\n",
    "print(f\"E = {E} \")\n",
    "\n",
    "q.clear()\n",
    "ni.clear()\n",
    "ei.clear()"
   ]
  },
  {
   "cell_type": "code",
   "execution_count": 57,
   "id": "05aa2838",
   "metadata": {},
   "outputs": [],
   "source": [
    "u = [298, 296, 295, 295, 295] # V\n",
    "t_1 = [54.81, 50.39, 49.88, 53.26, 51.16] # s\n",
    "t_2 = [17.51, 16.26, 15.97, 16.00, 16.06] # s"
   ]
  },
  {
   "cell_type": "code",
   "execution_count": 58,
   "id": "92f6d624",
   "metadata": {},
   "outputs": [
    {
     "name": "stdout",
     "output_type": "stream",
     "text": [
      "q = [2.786369598247756e-19, 3.1857076505579644e-19, 3.2682834343611795e-19, 3.0889445953227993e-19, 3.1856729589374793e-19] C\n",
      "ni = [2.0, 2.0, 2.0, 2.0, 2.0] \n",
      "ei = [1.393184799123878e-19, 1.5928538252789822e-19, 1.6341417171805898e-19, 1.5444722976613996e-19, 1.5928364794687396e-19] C\n",
      "\\overline ei = 1.551497823742718e-19 C\n",
      "E = 0.03152445459256055 \n"
     ]
    }
   ],
   "source": [
    "ei_sum = 0\n",
    "for i in range(0, len(u)):\n",
    "    q.append(tmp/u[i]*(1+t_1[i]/t_2[i])*math.sqrt(pow(n*l/t_1[i]/(1+b/p*math.sqrt(2*g*r*t_1[i]/9/n/l)),3)))\n",
    "    ni.append(round(q[i]/e,0))\n",
    "    ei.append(q[i]/ni[i])\n",
    "    ei_sum += ei[i]\n",
    "    \n",
    "ei_ba = ei_sum/5\n",
    "E = abs(ei_ba-e)/e\n",
    "print(f\"q = {q} C\")\n",
    "print(f\"ni = {ni} \")\n",
    "print(f\"ei = {ei} C\")\n",
    "print(f\"\\overline ei = {ei_ba} C\")\n",
    "print(f\"E = {E} \")\n",
    "\n",
    "q.clear()\n",
    "ni.clear()\n",
    "ei.clear()"
   ]
  },
  {
   "cell_type": "code",
   "execution_count": null,
   "id": "b3cf6007",
   "metadata": {},
   "outputs": [],
   "source": []
  }
 ],
 "metadata": {
  "kernelspec": {
   "display_name": "Python 3 (ipykernel)",
   "language": "python",
   "name": "python3"
  },
  "language_info": {
   "codemirror_mode": {
    "name": "ipython",
    "version": 3
   },
   "file_extension": ".py",
   "mimetype": "text/x-python",
   "name": "python",
   "nbconvert_exporter": "python",
   "pygments_lexer": "ipython3",
   "version": "3.10.6"
  }
 },
 "nbformat": 4,
 "nbformat_minor": 5
}
